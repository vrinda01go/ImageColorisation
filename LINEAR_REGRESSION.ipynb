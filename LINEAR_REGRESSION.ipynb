{
  "nbformat": 4,
  "nbformat_minor": 0,
  "metadata": {
    "colab": {
      "name": "LINEAR REGRESSION",
      "provenance": []
    },
    "kernelspec": {
      "name": "python3",
      "display_name": "Python 3"
    },
    "language_info": {
      "name": "python"
    }
  },
  "cells": [
    {
      "cell_type": "code",
      "metadata": {
        "id": "CIY8Kn70q5sL"
      },
      "source": [
        "import numpy as np\n",
        "import pandas as pd\n",
        "import matplotlib.pyplot as plt\n",
        "\n",
        "df= pd.read_csv('data.csv')\n",
        "arr = df.to_numpy()\n"
      ],
      "execution_count": null,
      "outputs": []
    },
    {
      "cell_type": "code",
      "metadata": {
        "id": "6rgB_F-q2kKE"
      },
      "source": [
        "X,Y = np.split(arr,[-1],1)"
      ],
      "execution_count": null,
      "outputs": []
    },
    {
      "cell_type": "code",
      "metadata": {
        "colab": {
          "base_uri": "https://localhost:8080/",
          "height": 282
        },
        "id": "MQ_y1HI03XuW",
        "outputId": "0db116cb-e2b5-479f-b8e8-2a9c9f643480"
      },
      "source": [
        "plt.scatter(X,Y)"
      ],
      "execution_count": null,
      "outputs": [
        {
          "output_type": "execute_result",
          "data": {
            "text/plain": [
              "<matplotlib.collections.PathCollection at 0x7fa072c82bd0>"
            ]
          },
          "metadata": {
            "tags": []
          },
          "execution_count": 15
        },
        {
          "output_type": "display_data",
          "data": {
            "image/png": "[encoded data removed]",
            "text/plain": [
              "<Figure size 432x288 with 1 Axes>"
            ]
          },
          "metadata": {
            "tags": [],
            "needs_background": "light"
          }
        }
      ]
    },
    {
      "cell_type": "code",
      "metadata": {
        "id": "Z20V4Tmv2ozQ"
      },
      "source": [
        "def y_pred(A,B,X):\n",
        "  return (A*X+B)"
      ],
      "execution_count": null,
      "outputs": []
    },
    {
      "cell_type": "code",
      "metadata": {
        "id": "P967udKd2q0M"
      },
      "source": [
        "def linear_regression(X,Y,A,B,alpha=0.0000001,epochs=150):\n",
        "  N=len(Y)\n",
        "  for i in range(epochs):\n",
        "    y_iter=y_pred(A,B,X)\n",
        "    A_grad=(1/N) * np.sum(X* (y_iter-Y))\n",
        "    B_grad=(1/N) * np.sum(y_iter-Y)\n",
        "    A = A - alpha * A_grad\n",
        "    B = B - alpha * B_grad\n",
        "  return A,B"
      ],
      "execution_count": null,
      "outputs": []
    },
    {
      "cell_type": "code",
      "metadata": {
        "colab": {
          "base_uri": "https://localhost:8080/",
          "height": 265
        },
        "id": "sdRvCyerxJcS",
        "outputId": "b7ce7826-d0e4-4721-f381-d1e0a6051d7c"
      },
      "source": [
        "A,B = linear_regression(X,Y,0,0,alpha=0.0000001,epochs=150)\n",
        "y_ = y_pred(A,B,X)\n",
        "plt.plot(X,y_)\n",
        "plt.scatter(X,Y)\n",
        "plt.show()"
      ],
      "execution_count": null,
      "outputs": [
        {
          "output_type": "display_data",
          "data": {
            "image/png": "[encoded data removed]",
            "text/plain": [
              "<Figure size 432x288 with 1 Axes>"
            ]
          },
          "metadata": {
            "tags": [],
            "needs_background": "light"
          }
        }
      ]
    }
  ]
}