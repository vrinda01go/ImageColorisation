{
  "nbformat": 4,
  "nbformat_minor": 0,
  "metadata": {
    "colab": {
      "name": "DCGAN.ipynb",
      "provenance": []
    },
    "kernelspec": {
      "display_name": "Python 3",
      "name": "python3"
    },
    "language_info": {
      "name": "python"
    },
    "widgets": {
      "application/vnd.jupyter.widget-state+json": {
        "7d22b303cc5642a48c66002ddd4546f3": {
          "model_module": "@jupyter-widgets/controls",
          "model_name": "HBoxModel",
          "state": {
            "_view_name": "HBoxView",
            "_dom_classes": [],
            "_model_name": "HBoxModel",
            "_view_module": "@jupyter-widgets/controls",
            "_model_module_version": "1.5.0",
            "_view_count": null,
            "_view_module_version": "1.5.0",
            "box_style": "",
            "layout": "IPY_MODEL_397113cafb64426d8c63245e90d25f41",
            "_model_module": "@jupyter-widgets/controls",
            "children": [
              "IPY_MODEL_1e8bb80af821410bb1ef39b3f19f701c",
              "IPY_MODEL_07f3880933fa4483834be12a6bc3995c"
            ]
          }
        },
        "397113cafb64426d8c63245e90d25f41": {
          "model_module": "@jupyter-widgets/base",
          "model_name": "LayoutModel",
          "state": {
            "_view_name": "LayoutView",
            "grid_template_rows": null,
            "right": null,
            "justify_content": null,
            "_view_module": "@jupyter-widgets/base",
            "overflow": null,
            "_model_module_version": "1.2.0",
            "_view_count": null,
            "flex_flow": null,
            "width": null,
            "min_width": null,
            "border": null,
            "align_items": null,
            "bottom": null,
            "_model_module": "@jupyter-widgets/base",
            "top": null,
            "grid_column": null,
            "overflow_y": null,
            "overflow_x": null,
            "grid_auto_flow": null,
            "grid_area": null,
            "grid_template_columns": null,
            "flex": null,
            "_model_name": "LayoutModel",
            "justify_items": null,
            "grid_row": null,
            "max_height": null,
            "align_content": null,
            "visibility": null,
            "align_self": null,
            "height": null,
            "min_height": null,
            "padding": null,
            "grid_auto_rows": null,
            "grid_gap": null,
            "max_width": null,
            "order": null,
            "_view_module_version": "1.2.0",
            "grid_template_areas": null,
            "object_position": null,
            "object_fit": null,
            "grid_auto_columns": null,
            "margin": null,
            "display": null,
            "left": null
          }
        },
        "1e8bb80af821410bb1ef39b3f19f701c": {
          "model_module": "@jupyter-widgets/controls",
          "model_name": "FloatProgressModel",
          "state": {
            "_view_name": "ProgressView",
            "style": "IPY_MODEL_d977429baa424a6f960c0d9d97639372",
            "_dom_classes": [],
            "description": "",
            "_model_name": "FloatProgressModel",
            "bar_style": "success",
            "max": 9912422,
            "_view_module": "@jupyter-widgets/controls",
            "_model_module_version": "1.5.0",
            "value": 9912422,
            "_view_count": null,
            "_view_module_version": "1.5.0",
            "orientation": "horizontal",
            "min": 0,
            "description_tooltip": null,
            "_model_module": "@jupyter-widgets/controls",
            "layout": "IPY_MODEL_49cb42efd8164d2a94b8cddb16f8d5d2"
          }
        },
        "07f3880933fa4483834be12a6bc3995c": {
          "model_module": "@jupyter-widgets/controls",
          "model_name": "HTMLModel",
          "state": {
            "_view_name": "HTMLView",
            "style": "IPY_MODEL_0440dfc4ff424e3fa9955af03cb84175",
            "_dom_classes": [],
            "description": "",
            "_model_name": "HTMLModel",
            "placeholder": "​",
            "_view_module": "@jupyter-widgets/controls",
            "_model_module_version": "1.5.0",
            "value": " 9913344/? [04:47&lt;00:00, 34464.55it/s]",
            "_view_count": null,
            "_view_module_version": "1.5.0",
            "description_tooltip": null,
            "_model_module": "@jupyter-widgets/controls",
            "layout": "IPY_MODEL_5a1226df3b4048c5a1b1f6d6294f6cc2"
          }
        },
        "d977429baa424a6f960c0d9d97639372": {
          "model_module": "@jupyter-widgets/controls",
          "model_name": "ProgressStyleModel",
          "state": {
            "_view_name": "StyleView",
            "_model_name": "ProgressStyleModel",
            "description_width": "initial",
            "_view_module": "@jupyter-widgets/base",
            "_model_module_version": "1.5.0",
            "_view_count": null,
            "_view_module_version": "1.2.0",
            "bar_color": null,
            "_model_module": "@jupyter-widgets/controls"
          }
        },
        "49cb42efd8164d2a94b8cddb16f8d5d2": {
          "model_module": "@jupyter-widgets/base",
          "model_name": "LayoutModel",
          "state": {
            "_view_name": "LayoutView",
            "grid_template_rows": null,
            "right": null,
            "justify_content": null,
            "_view_module": "@jupyter-widgets/base",
            "overflow": null,
            "_model_module_version": "1.2.0",
            "_view_count": null,
            "flex_flow": null,
            "width": null,
            "min_width": null,
            "border": null,
            "align_items": null,
            "bottom": null,
            "_model_module": "@jupyter-widgets/base",
            "top": null,
            "grid_column": null,
            "overflow_y": null,
            "overflow_x": null,
            "grid_auto_flow": null,
            "grid_area": null,
            "grid_template_columns": null,
            "flex": null,
            "_model_name": "LayoutModel",
            "justify_items": null,
            "grid_row": null,
            "max_height": null,
            "align_content": null,
            "visibility": null,
            "align_self": null,
            "height": null,
            "min_height": null,
            "padding": null,
            "grid_auto_rows": null,
            "grid_gap": null,
            "max_width": null,
            "order": null,
            "_view_module_version": "1.2.0",
            "grid_template_areas": null,
            "object_position": null,
            "object_fit": null,
            "grid_auto_columns": null,
            "margin": null,
            "display": null,
            "left": null
          }
        },
        "0440dfc4ff424e3fa9955af03cb84175": {
          "model_module": "@jupyter-widgets/controls",
          "model_name": "DescriptionStyleModel",
          "state": {
            "_view_name": "StyleView",
            "_model_name": "DescriptionStyleModel",
            "description_width": "",
            "_view_module": "@jupyter-widgets/base",
            "_model_module_version": "1.5.0",
            "_view_count": null,
            "_view_module_version": "1.2.0",
            "_model_module": "@jupyter-widgets/controls"
          }
        },
        "5a1226df3b4048c5a1b1f6d6294f6cc2": {
          "model_module": "@jupyter-widgets/base",
          "model_name": "LayoutModel",
          "state": {
            "_view_name": "LayoutView",
            "grid_template_rows": null,
            "right": null,
            "justify_content": null,
            "_view_module": "@jupyter-widgets/base",
            "overflow": null,
            "_model_module_version": "1.2.0",
            "_view_count": null,
            "flex_flow": null,
            "width": null,
            "min_width": null,
            "border": null,
            "align_items": null,
            "bottom": null,
            "_model_module": "@jupyter-widgets/base",
            "top": null,
            "grid_column": null,
            "overflow_y": null,
            "overflow_x": null,
            "grid_auto_flow": null,
            "grid_area": null,
            "grid_template_columns": null,
            "flex": null,
            "_model_name": "LayoutModel",
            "justify_items": null,
            "grid_row": null,
            "max_height": null,
            "align_content": null,
            "visibility": null,
            "align_self": null,
            "height": null,
            "min_height": null,
            "padding": null,
            "grid_auto_rows": null,
            "grid_gap": null,
            "max_width": null,
            "order": null,
            "_view_module_version": "1.2.0",
            "grid_template_areas": null,
            "object_position": null,
            "object_fit": null,
            "grid_auto_columns": null,
            "margin": null,
            "display": null,
            "left": null
          }
        },
        "526e09977ca247b4b7dcb8f2b17e4e84": {
          "model_module": "@jupyter-widgets/controls",
          "model_name": "HBoxModel",
          "state": {
            "_view_name": "HBoxView",
            "_dom_classes": [],
            "_model_name": "HBoxModel",
            "_view_module": "@jupyter-widgets/controls",
            "_model_module_version": "1.5.0",
            "_view_count": null,
            "_view_module_version": "1.5.0",
            "box_style": "",
            "layout": "IPY_MODEL_d9a82ce209d643688ddabd8d4cb6eec6",
            "_model_module": "@jupyter-widgets/controls",
            "children": [
              "IPY_MODEL_697f40c78b034d28a522142e977bd912",
              "IPY_MODEL_ba1820b6de2845afba0626630c77f435"
            ]
          }
        },
        "d9a82ce209d643688ddabd8d4cb6eec6": {
          "model_module": "@jupyter-widgets/base",
          "model_name": "LayoutModel",
          "state": {
            "_view_name": "LayoutView",
            "grid_template_rows": null,
            "right": null,
            "justify_content": null,
            "_view_module": "@jupyter-widgets/base",
            "overflow": null,
            "_model_module_version": "1.2.0",
            "_view_count": null,
            "flex_flow": null,
            "width": null,
            "min_width": null,
            "border": null,
            "align_items": null,
            "bottom": null,
            "_model_module": "@jupyter-widgets/base",
            "top": null,
            "grid_column": null,
            "overflow_y": null,
            "overflow_x": null,
            "grid_auto_flow": null,
            "grid_area": null,
            "grid_template_columns": null,
            "flex": null,
            "_model_name": "LayoutModel",
            "justify_items": null,
            "grid_row": null,
            "max_height": null,
            "align_content": null,
            "visibility": null,
            "align_self": null,
            "height": null,
            "min_height": null,
            "padding": null,
            "grid_auto_rows": null,
            "grid_gap": null,
            "max_width": null,
            "order": null,
            "_view_module_version": "1.2.0",
            "grid_template_areas": null,
            "object_position": null,
            "object_fit": null,
            "grid_auto_columns": null,
            "margin": null,
            "display": null,
            "left": null
          }
        },
        "697f40c78b034d28a522142e977bd912": {
          "model_module": "@jupyter-widgets/controls",
          "model_name": "FloatProgressModel",
          "state": {
            "_view_name": "ProgressView",
            "style": "IPY_MODEL_62d4715b47084f19aef48cc00c8bee70",
            "_dom_classes": [],
            "description": "",
            "_model_name": "FloatProgressModel",
            "bar_style": "success",
            "max": 28881,
            "_view_module": "@jupyter-widgets/controls",
            "_model_module_version": "1.5.0",
            "value": 28881,
            "_view_count": null,
            "_view_module_version": "1.5.0",
            "orientation": "horizontal",
            "min": 0,
            "description_tooltip": null,
            "_model_module": "@jupyter-widgets/controls",
            "layout": "IPY_MODEL_fea60f07a2424de6950941f47c836298"
          }
        },
        "ba1820b6de2845afba0626630c77f435": {
          "model_module": "@jupyter-widgets/controls",
          "model_name": "HTMLModel",
          "state": {
            "_view_name": "HTMLView",
            "style": "IPY_MODEL_1f6fd883cae34d30b48eb5b68781707c",
            "_dom_classes": [],
            "description": "",
            "_model_name": "HTMLModel",
            "placeholder": "​",
            "_view_module": "@jupyter-widgets/controls",
            "_model_module_version": "1.5.0",
            "value": " 29696/? [00:49&lt;00:00, 605.44it/s]",
            "_view_count": null,
            "_view_module_version": "1.5.0",
            "description_tooltip": null,
            "_model_module": "@jupyter-widgets/controls",
            "layout": "IPY_MODEL_0ccffe8e4b2448b19d152802025e077e"
          }
        },
        "62d4715b47084f19aef48cc00c8bee70": {
          "model_module": "@jupyter-widgets/controls",
          "model_name": "ProgressStyleModel",
          "state": {
            "_view_name": "StyleView",
            "_model_name": "ProgressStyleModel",
            "description_width": "initial",
            "_view_module": "@jupyter-widgets/base",
            "_model_module_version": "1.5.0",
            "_view_count": null,
            "_view_module_version": "1.2.0",
            "bar_color": null,
            "_model_module": "@jupyter-widgets/controls"
          }
        },
        "fea60f07a2424de6950941f47c836298": {
          "model_module": "@jupyter-widgets/base",
          "model_name": "LayoutModel",
          "state": {
            "_view_name": "LayoutView",
            "grid_template_rows": null,
            "right": null,
            "justify_content": null,
            "_view_module": "@jupyter-widgets/base",
            "overflow": null,
            "_model_module_version": "1.2.0",
            "_view_count": null,
            "flex_flow": null,
            "width": null,
            "min_width": null,
            "border": null,
            "align_items": null,
            "bottom": null,
            "_model_module": "@jupyter-widgets/base",
            "top": null,
            "grid_column": null,
            "overflow_y": null,
            "overflow_x": null,
            "grid_auto_flow": null,
            "grid_area": null,
            "grid_template_columns": null,
            "flex": null,
            "_model_name": "LayoutModel",
            "justify_items": null,
            "grid_row": null,
            "max_height": null,
            "align_content": null,
            "visibility": null,
            "align_self": null,
            "height": null,
            "min_height": null,
            "padding": null,
            "grid_auto_rows": null,
            "grid_gap": null,
            "max_width": null,
            "order": null,
            "_view_module_version": "1.2.0",
            "grid_template_areas": null,
            "object_position": null,
            "object_fit": null,
            "grid_auto_columns": null,
            "margin": null,
            "display": null,
            "left": null
          }
        },
        "1f6fd883cae34d30b48eb5b68781707c": {
          "model_module": "@jupyter-widgets/controls",
          "model_name": "DescriptionStyleModel",
          "state": {
            "_view_name": "StyleView",
            "_model_name": "DescriptionStyleModel",
            "description_width": "",
            "_view_module": "@jupyter-widgets/base",
            "_model_module_version": "1.5.0",
            "_view_count": null,
            "_view_module_version": "1.2.0",
            "_model_module": "@jupyter-widgets/controls"
          }
        },
        "0ccffe8e4b2448b19d152802025e077e": {
          "model_module": "@jupyter-widgets/base",
          "model_name": "LayoutModel",
          "state": {
            "_view_name": "LayoutView",
            "grid_template_rows": null,
            "right": null,
            "justify_content": null,
            "_view_module": "@jupyter-widgets/base",
            "overflow": null,
            "_model_module_version": "1.2.0",
            "_view_count": null,
            "flex_flow": null,
            "width": null,
            "min_width": null,
            "border": null,
            "align_items": null,
            "bottom": null,
            "_model_module": "@jupyter-widgets/base",
            "top": null,
            "grid_column": null,
            "overflow_y": null,
            "overflow_x": null,
            "grid_auto_flow": null,
            "grid_area": null,
            "grid_template_columns": null,
            "flex": null,
            "_model_name": "LayoutModel",
            "justify_items": null,
            "grid_row": null,
            "max_height": null,
            "align_content": null,
            "visibility": null,
            "align_self": null,
            "height": null,
            "min_height": null,
            "padding": null,
            "grid_auto_rows": null,
            "grid_gap": null,
            "max_width": null,
            "order": null,
            "_view_module_version": "1.2.0",
            "grid_template_areas": null,
            "object_position": null,
            "object_fit": null,
            "grid_auto_columns": null,
            "margin": null,
            "display": null,
            "left": null
          }
        },
        "93af2e3223194ab0a52c6d69aaba2933": {
          "model_module": "@jupyter-widgets/controls",
          "model_name": "HBoxModel",
          "state": {
            "_view_name": "HBoxView",
            "_dom_classes": [],
            "_model_name": "HBoxModel",
            "_view_module": "@jupyter-widgets/controls",
            "_model_module_version": "1.5.0",
            "_view_count": null,
            "_view_module_version": "1.5.0",
            "box_style": "",
            "layout": "IPY_MODEL_1b9e168f0c39415c94558e02693fed5d",
            "_model_module": "@jupyter-widgets/controls",
            "children": [
              "IPY_MODEL_6f7b798940214b00a95c7d0a0811580e",
              "IPY_MODEL_048c0b73cd8e40f68a8ccec5d859454c"
            ]
          }
        },
        "1b9e168f0c39415c94558e02693fed5d": {
          "model_module": "@jupyter-widgets/base",
          "model_name": "LayoutModel",
          "state": {
            "_view_name": "LayoutView",
            "grid_template_rows": null,
            "right": null,
            "justify_content": null,
            "_view_module": "@jupyter-widgets/base",
            "overflow": null,
            "_model_module_version": "1.2.0",
            "_view_count": null,
            "flex_flow": null,
            "width": null,
            "min_width": null,
            "border": null,
            "align_items": null,
            "bottom": null,
            "_model_module": "@jupyter-widgets/base",
            "top": null,
            "grid_column": null,
            "overflow_y": null,
            "overflow_x": null,
            "grid_auto_flow": null,
            "grid_area": null,
            "grid_template_columns": null,
            "flex": null,
            "_model_name": "LayoutModel",
            "justify_items": null,
            "grid_row": null,
            "max_height": null,
            "align_content": null,
            "visibility": null,
            "align_self": null,
            "height": null,
            "min_height": null,
            "padding": null,
            "grid_auto_rows": null,
            "grid_gap": null,
            "max_width": null,
            "order": null,
            "_view_module_version": "1.2.0",
            "grid_template_areas": null,
            "object_position": null,
            "object_fit": null,
            "grid_auto_columns": null,
            "margin": null,
            "display": null,
            "left": null
          }
        },
        "6f7b798940214b00a95c7d0a0811580e": {
          "model_module": "@jupyter-widgets/controls",
          "model_name": "FloatProgressModel",
          "state": {
            "_view_name": "ProgressView",
            "style": "IPY_MODEL_a3959fc0d6c444338042f9fc3b931295",
            "_dom_classes": [],
            "description": "",
            "_model_name": "FloatProgressModel",
            "bar_style": "success",
            "max": 1648877,
            "_view_module": "@jupyter-widgets/controls",
            "_model_module_version": "1.5.0",
            "value": 1648877,
            "_view_count": null,
            "_view_module_version": "1.5.0",
            "orientation": "horizontal",
            "min": 0,
            "description_tooltip": null,
            "_model_module": "@jupyter-widgets/controls",
            "layout": "IPY_MODEL_07e8366addc34fbdbcbdb795599998ea"
          }
        },
        "048c0b73cd8e40f68a8ccec5d859454c": {
          "model_module": "@jupyter-widgets/controls",
          "model_name": "HTMLModel",
          "state": {
            "_view_name": "HTMLView",
            "style": "IPY_MODEL_760eca6ef8b14c9db42443d8ff8c0622",
            "_dom_classes": [],
            "description": "",
            "_model_name": "HTMLModel",
            "placeholder": "​",
            "_view_module": "@jupyter-widgets/controls",
            "_model_module_version": "1.5.0",
            "value": " 1649664/? [00:48&lt;00:00, 33989.30it/s]",
            "_view_count": null,
            "_view_module_version": "1.5.0",
            "description_tooltip": null,
            "_model_module": "@jupyter-widgets/controls",
            "layout": "IPY_MODEL_5a797ebdb08e48ce96531e1370db4936"
          }
        },
        "a3959fc0d6c444338042f9fc3b931295": {
          "model_module": "@jupyter-widgets/controls",
          "model_name": "ProgressStyleModel",
          "state": {
            "_view_name": "StyleView",
            "_model_name": "ProgressStyleModel",
            "description_width": "initial",
            "_view_module": "@jupyter-widgets/base",
            "_model_module_version": "1.5.0",
            "_view_count": null,
            "_view_module_version": "1.2.0",
            "bar_color": null,
            "_model_module": "@jupyter-widgets/controls"
          }
        },
        "07e8366addc34fbdbcbdb795599998ea": {
          "model_module": "@jupyter-widgets/base",
          "model_name": "LayoutModel",
          "state": {
            "_view_name": "LayoutView",
            "grid_template_rows": null,
            "right": null,
            "justify_content": null,
            "_view_module": "@jupyter-widgets/base",
            "overflow": null,
            "_model_module_version": "1.2.0",
            "_view_count": null,
            "flex_flow": null,
            "width": null,
            "min_width": null,
            "border": null,
            "align_items": null,
            "bottom": null,
            "_model_module": "@jupyter-widgets/base",
            "top": null,
            "grid_column": null,
            "overflow_y": null,
            "overflow_x": null,
            "grid_auto_flow": null,
            "grid_area": null,
            "grid_template_columns": null,
            "flex": null,
            "_model_name": "LayoutModel",
            "justify_items": null,
            "grid_row": null,
            "max_height": null,
            "align_content": null,
            "visibility": null,
            "align_self": null,
            "height": null,
            "min_height": null,
            "padding": null,
            "grid_auto_rows": null,
            "grid_gap": null,
            "max_width": null,
            "order": null,
            "_view_module_version": "1.2.0",
            "grid_template_areas": null,
            "object_position": null,
            "object_fit": null,
            "grid_auto_columns": null,
            "margin": null,
            "display": null,
            "left": null
          }
        },
        "760eca6ef8b14c9db42443d8ff8c0622": {
          "model_module": "@jupyter-widgets/controls",
          "model_name": "DescriptionStyleModel",
          "state": {
            "_view_name": "StyleView",
            "_model_name": "DescriptionStyleModel",
            "description_width": "",
            "_view_module": "@jupyter-widgets/base",
            "_model_module_version": "1.5.0",
            "_view_count": null,
            "_view_module_version": "1.2.0",
            "_model_module": "@jupyter-widgets/controls"
          }
        },
        "5a797ebdb08e48ce96531e1370db4936": {
          "model_module": "@jupyter-widgets/base",
          "model_name": "LayoutModel",
          "state": {
            "_view_name": "LayoutView",
            "grid_template_rows": null,
            "right": null,
            "justify_content": null,
            "_view_module": "@jupyter-widgets/base",
            "overflow": null,
            "_model_module_version": "1.2.0",
            "_view_count": null,
            "flex_flow": null,
            "width": null,
            "min_width": null,
            "border": null,
            "align_items": null,
            "bottom": null,
            "_model_module": "@jupyter-widgets/base",
            "top": null,
            "grid_column": null,
            "overflow_y": null,
            "overflow_x": null,
            "grid_auto_flow": null,
            "grid_area": null,
            "grid_template_columns": null,
            "flex": null,
            "_model_name": "LayoutModel",
            "justify_items": null,
            "grid_row": null,
            "max_height": null,
            "align_content": null,
            "visibility": null,
            "align_self": null,
            "height": null,
            "min_height": null,
            "padding": null,
            "grid_auto_rows": null,
            "grid_gap": null,
            "max_width": null,
            "order": null,
            "_view_module_version": "1.2.0",
            "grid_template_areas": null,
            "object_position": null,
            "object_fit": null,
            "grid_auto_columns": null,
            "margin": null,
            "display": null,
            "left": null
          }
        },
        "a80157cb6baa41aeaa09f0584ab8ea11": {
          "model_module": "@jupyter-widgets/controls",
          "model_name": "HBoxModel",
          "state": {
            "_view_name": "HBoxView",
            "_dom_classes": [],
            "_model_name": "HBoxModel",
            "_view_module": "@jupyter-widgets/controls",
            "_model_module_version": "1.5.0",
            "_view_count": null,
            "_view_module_version": "1.5.0",
            "box_style": "",
            "layout": "IPY_MODEL_39eb24e477ba40aaa494715777a3076e",
            "_model_module": "@jupyter-widgets/controls",
            "children": [
              "IPY_MODEL_24cfa243f6d64319a8f63036b4fd81d1",
              "IPY_MODEL_aeb41ec501c6465d99dfa495a8a8f50a"
            ]
          }
        },
        "39eb24e477ba40aaa494715777a3076e": {
          "model_module": "@jupyter-widgets/base",
          "model_name": "LayoutModel",
          "state": {
            "_view_name": "LayoutView",
            "grid_template_rows": null,
            "right": null,
            "justify_content": null,
            "_view_module": "@jupyter-widgets/base",
            "overflow": null,
            "_model_module_version": "1.2.0",
            "_view_count": null,
            "flex_flow": null,
            "width": null,
            "min_width": null,
            "border": null,
            "align_items": null,
            "bottom": null,
            "_model_module": "@jupyter-widgets/base",
            "top": null,
            "grid_column": null,
            "overflow_y": null,
            "overflow_x": null,
            "grid_auto_flow": null,
            "grid_area": null,
            "grid_template_columns": null,
            "flex": null,
            "_model_name": "LayoutModel",
            "justify_items": null,
            "grid_row": null,
            "max_height": null,
            "align_content": null,
            "visibility": null,
            "align_self": null,
            "height": null,
            "min_height": null,
            "padding": null,
            "grid_auto_rows": null,
            "grid_gap": null,
            "max_width": null,
            "order": null,
            "_view_module_version": "1.2.0",
            "grid_template_areas": null,
            "object_position": null,
            "object_fit": null,
            "grid_auto_columns": null,
            "margin": null,
            "display": null,
            "left": null
          }
        },
        "24cfa243f6d64319a8f63036b4fd81d1": {
          "model_module": "@jupyter-widgets/controls",
          "model_name": "FloatProgressModel",
          "state": {
            "_view_name": "ProgressView",
            "style": "IPY_MODEL_d4838fadaca643c3bb938c2722bde66f",
            "_dom_classes": [],
            "description": "",
            "_model_name": "FloatProgressModel",
            "bar_style": "success",
            "max": 4542,
            "_view_module": "@jupyter-widgets/controls",
            "_model_module_version": "1.5.0",
            "value": 4542,
            "_view_count": null,
            "_view_module_version": "1.5.0",
            "orientation": "horizontal",
            "min": 0,
            "description_tooltip": null,
            "_model_module": "@jupyter-widgets/controls",
            "layout": "IPY_MODEL_63ec9323a58d42e0811ea4bc71de8594"
          }
        },
        "aeb41ec501c6465d99dfa495a8a8f50a": {
          "model_module": "@jupyter-widgets/controls",
          "model_name": "HTMLModel",
          "state": {
            "_view_name": "HTMLView",
            "style": "IPY_MODEL_621c873153d24b69bcbb5b4e9b3b5634",
            "_dom_classes": [],
            "description": "",
            "_model_name": "HTMLModel",
            "placeholder": "​",
            "_view_module": "@jupyter-widgets/controls",
            "_model_module_version": "1.5.0",
            "value": " 5120/? [00:00&lt;00:00, 37502.84it/s]",
            "_view_count": null,
            "_view_module_version": "1.5.0",
            "description_tooltip": null,
            "_model_module": "@jupyter-widgets/controls",
            "layout": "IPY_MODEL_40fd657374824a86a4b728c68aaf7143"
          }
        },
        "d4838fadaca643c3bb938c2722bde66f": {
          "model_module": "@jupyter-widgets/controls",
          "model_name": "ProgressStyleModel",
          "state": {
            "_view_name": "StyleView",
            "_model_name": "ProgressStyleModel",
            "description_width": "initial",
            "_view_module": "@jupyter-widgets/base",
            "_model_module_version": "1.5.0",
            "_view_count": null,
            "_view_module_version": "1.2.0",
            "bar_color": null,
            "_model_module": "@jupyter-widgets/controls"
          }
        },
        "63ec9323a58d42e0811ea4bc71de8594": {
          "model_module": "@jupyter-widgets/base",
          "model_name": "LayoutModel",
          "state": {
            "_view_name": "LayoutView",
            "grid_template_rows": null,
            "right": null,
            "justify_content": null,
            "_view_module": "@jupyter-widgets/base",
            "overflow": null,
            "_model_module_version": "1.2.0",
            "_view_count": null,
            "flex_flow": null,
            "width": null,
            "min_width": null,
            "border": null,
            "align_items": null,
            "bottom": null,
            "_model_module": "@jupyter-widgets/base",
            "top": null,
            "grid_column": null,
            "overflow_y": null,
            "overflow_x": null,
            "grid_auto_flow": null,
            "grid_area": null,
            "grid_template_columns": null,
            "flex": null,
            "_model_name": "LayoutModel",
            "justify_items": null,
            "grid_row": null,
            "max_height": null,
            "align_content": null,
            "visibility": null,
            "align_self": null,
            "height": null,
            "min_height": null,
            "padding": null,
            "grid_auto_rows": null,
            "grid_gap": null,
            "max_width": null,
            "order": null,
            "_view_module_version": "1.2.0",
            "grid_template_areas": null,
            "object_position": null,
            "object_fit": null,
            "grid_auto_columns": null,
            "margin": null,
            "display": null,
            "left": null
          }
        },
        "621c873153d24b69bcbb5b4e9b3b5634": {
          "model_module": "@jupyter-widgets/controls",
          "model_name": "DescriptionStyleModel",
          "state": {
            "_view_name": "StyleView",
            "_model_name": "DescriptionStyleModel",
            "description_width": "",
            "_view_module": "@jupyter-widgets/base",
            "_model_module_version": "1.5.0",
            "_view_count": null,
            "_view_module_version": "1.2.0",
            "_model_module": "@jupyter-widgets/controls"
          }
        },
        "40fd657374824a86a4b728c68aaf7143": {
          "model_module": "@jupyter-widgets/base",
          "model_name": "LayoutModel",
          "state": {
            "_view_name": "LayoutView",
            "grid_template_rows": null,
            "right": null,
            "justify_content": null,
            "_view_module": "@jupyter-widgets/base",
            "overflow": null,
            "_model_module_version": "1.2.0",
            "_view_count": null,
            "flex_flow": null,
            "width": null,
            "min_width": null,
            "border": null,
            "align_items": null,
            "bottom": null,
            "_model_module": "@jupyter-widgets/base",
            "top": null,
            "grid_column": null,
            "overflow_y": null,
            "overflow_x": null,
            "grid_auto_flow": null,
            "grid_area": null,
            "grid_template_columns": null,
            "flex": null,
            "_model_name": "LayoutModel",
            "justify_items": null,
            "grid_row": null,
            "max_height": null,
            "align_content": null,
            "visibility": null,
            "align_self": null,
            "height": null,
            "min_height": null,
            "padding": null,
            "grid_auto_rows": null,
            "grid_gap": null,
            "max_width": null,
            "order": null,
            "_view_module_version": "1.2.0",
            "grid_template_areas": null,
            "object_position": null,
            "object_fit": null,
            "grid_auto_columns": null,
            "margin": null,
            "display": null,
            "left": null
          }
        }
      }
    },
    "accelerator": "GPU"
  },
  "cells": [
    {
      "cell_type": "code",
      "metadata": {
        "id": "tBfJ9vZCZSXv"
      },
      "source": [
        "import torch\n",
        "import torch.nn as nn\n",
        "import torchvision\n",
        "import torchvision.datasets as dsets\n",
        "import torchvision.transforms as transforms\n",
        "import torchvision.utils as vutils\n",
        "import torch.optim as optim\n",
        "import numpy as np\n",
        "import matplotlib.pyplot as plt\n",
        "from PIL import Image"
      ],
      "execution_count": null,
      "outputs": []
    },
    {
      "cell_type": "code",
      "metadata": {
        "id": "A9F3ifttZT0G"
      },
      "source": [
        "#hyperparameters\n",
        "lr = 2e-4  # could also use two lrs, one for gen and one for disc\n",
        "batch_size = 128\n",
        "image_size = 64  #The input is a 3x64x64 input image \n",
        "channels_img = 1 #number of channels in the output image (taking 3 will cause error)\n",
        "noise_dim = 100\n",
        "epochs = 5\n",
        "disc_feature_size = 64 \n",
        "gen_feature_size = 64\n",
        "beta1 = 0.5\n",
        "#the output is a 3x64x64 RGB image\n",
        "device = torch.device('cuda' if torch.cuda.is_available() else 'cpu') "
      ],
      "execution_count": null,
      "outputs": []
    },
    {
      "cell_type": "code",
      "metadata": {
        "id": "mgLUpSoWZlRn"
      },
      "source": [
        "transform = transforms.Compose([\n",
        "        transforms.Resize(image_size),\n",
        "        transforms.ToTensor(),\n",
        "        transforms.Normalize((0.5), (0.5))\n",
        "])\n",
        "    \n"
      ],
      "execution_count": null,
      "outputs": []
    },
    {
      "cell_type": "code",
      "metadata": {
        "colab": {
          "base_uri": "https://localhost:8080/",
          "height": 532,
          "referenced_widgets": [
            "7d22b303cc5642a48c66002ddd4546f3",
            "397113cafb64426d8c63245e90d25f41",
            "1e8bb80af821410bb1ef39b3f19f701c",
            "07f3880933fa4483834be12a6bc3995c",
            "d977429baa424a6f960c0d9d97639372",
            "49cb42efd8164d2a94b8cddb16f8d5d2",
            "0440dfc4ff424e3fa9955af03cb84175",
            "5a1226df3b4048c5a1b1f6d6294f6cc2",
            "526e09977ca247b4b7dcb8f2b17e4e84",
            "d9a82ce209d643688ddabd8d4cb6eec6",
            "697f40c78b034d28a522142e977bd912",
            "ba1820b6de2845afba0626630c77f435",
            "62d4715b47084f19aef48cc00c8bee70",
            "fea60f07a2424de6950941f47c836298",
            "1f6fd883cae34d30b48eb5b68781707c",
            "0ccffe8e4b2448b19d152802025e077e",
            "93af2e3223194ab0a52c6d69aaba2933",
            "1b9e168f0c39415c94558e02693fed5d",
            "6f7b798940214b00a95c7d0a0811580e",
            "048c0b73cd8e40f68a8ccec5d859454c",
            "a3959fc0d6c444338042f9fc3b931295",
            "07e8366addc34fbdbcbdb795599998ea",
            "760eca6ef8b14c9db42443d8ff8c0622",
            "5a797ebdb08e48ce96531e1370db4936",
            "a80157cb6baa41aeaa09f0584ab8ea11",
            "39eb24e477ba40aaa494715777a3076e",
            "24cfa243f6d64319a8f63036b4fd81d1",
            "aeb41ec501c6465d99dfa495a8a8f50a",
            "d4838fadaca643c3bb938c2722bde66f",
            "63ec9323a58d42e0811ea4bc71de8594",
            "621c873153d24b69bcbb5b4e9b3b5634",
            "40fd657374824a86a4b728c68aaf7143"
          ]
        },
        "id": "m9tC2aKVZqqL",
        "outputId": "4b5c7da6-321b-43d4-96f6-9dc10bce01f0"
      },
      "source": [
        "mnist_train = dsets.MNIST(root = 'data/',\n",
        "                      train=True,\n",
        "                      transform = transform,\n",
        "                      download=True)"
      ],
      "execution_count": null,
      "outputs": [
        {
          "output_type": "stream",
          "text": [
            "Downloading http://yann.lecun.com/exdb/mnist/train-images-idx3-ubyte.gz\n",
            "Downloading http://yann.lecun.com/exdb/mnist/train-images-idx3-ubyte.gz to data/MNIST/raw/train-images-idx3-ubyte.gz\n"
          ],
          "name": "stdout"
        },
        {
          "output_type": "display_data",
          "data": {
            "application/vnd.jupyter.widget-view+json": {
              "model_id": "7d22b303cc5642a48c66002ddd4546f3",
              "version_major": 2,
              "version_minor": 0
            },
            "text/plain": [
              "HBox(children=(FloatProgress(value=0.0, max=9912422.0), HTML(value='')))"
            ]
          },
          "metadata": {
            "tags": []
          }
        },
        {
          "output_type": "stream",
          "text": [
            "\n",
            "Extracting data/MNIST/raw/train-images-idx3-ubyte.gz to data/MNIST/raw\n",
            "\n",
            "Downloading http://yann.lecun.com/exdb/mnist/train-labels-idx1-ubyte.gz\n",
            "Downloading http://yann.lecun.com/exdb/mnist/train-labels-idx1-ubyte.gz to data/MNIST/raw/train-labels-idx1-ubyte.gz\n"
          ],
          "name": "stdout"
        },
        {
          "output_type": "display_data",
          "data": {
            "application/vnd.jupyter.widget-view+json": {
              "model_id": "526e09977ca247b4b7dcb8f2b17e4e84",
              "version_minor": 0,
              "version_major": 2
            },
            "text/plain": [
              "HBox(children=(FloatProgress(value=0.0, max=28881.0), HTML(value='')))"
            ]
          },
          "metadata": {
            "tags": []
          }
        },
        {
          "output_type": "stream",
          "text": [
            "\n",
            "Extracting data/MNIST/raw/train-labels-idx1-ubyte.gz to data/MNIST/raw\n",
            "\n",
            "Downloading http://yann.lecun.com/exdb/mnist/t10k-images-idx3-ubyte.gz\n",
            "Downloading http://yann.lecun.com/exdb/mnist/t10k-images-idx3-ubyte.gz to data/MNIST/raw/t10k-images-idx3-ubyte.gz\n"
          ],
          "name": "stdout"
        },
        {
          "output_type": "display_data",
          "data": {
            "application/vnd.jupyter.widget-view+json": {
              "model_id": "93af2e3223194ab0a52c6d69aaba2933",
              "version_minor": 0,
              "version_major": 2
            },
            "text/plain": [
              "HBox(children=(FloatProgress(value=0.0, max=1648877.0), HTML(value='')))"
            ]
          },
          "metadata": {
            "tags": []
          }
        },
        {
          "output_type": "stream",
          "text": [
            "\n",
            "Extracting data/MNIST/raw/t10k-images-idx3-ubyte.gz to data/MNIST/raw\n",
            "\n",
            "Downloading http://yann.lecun.com/exdb/mnist/t10k-labels-idx1-ubyte.gz\n",
            "Downloading http://yann.lecun.com/exdb/mnist/t10k-labels-idx1-ubyte.gz to data/MNIST/raw/t10k-labels-idx1-ubyte.gz\n"
          ],
          "name": "stdout"
        },
        {
          "output_type": "display_data",
          "data": {
            "application/vnd.jupyter.widget-view+json": {
              "model_id": "a80157cb6baa41aeaa09f0584ab8ea11",
              "version_minor": 0,
              "version_major": 2
            },
            "text/plain": [
              "HBox(children=(FloatProgress(value=0.0, max=4542.0), HTML(value='')))"
            ]
          },
          "metadata": {
            "tags": []
          }
        },
        {
          "output_type": "stream",
          "text": [
            "\n",
            "Extracting data/MNIST/raw/t10k-labels-idx1-ubyte.gz to data/MNIST/raw\n",
            "\n"
          ],
          "name": "stdout"
        },
        {
          "output_type": "stream",
          "text": [
            "/usr/local/lib/python3.7/dist-packages/torchvision/datasets/mnist.py:498: UserWarning: The given NumPy array is not writeable, and PyTorch does not support non-writeable tensors. This means you can write to the underlying (supposedly non-writeable) NumPy array using the tensor. You may want to copy the array to protect its data or make it writeable before converting it to a tensor. This type of warning will be suppressed for the rest of this program. (Triggered internally at  /pytorch/torch/csrc/utils/tensor_numpy.cpp:180.)\n",
            "  return torch.from_numpy(parsed.astype(m[2], copy=False)).view(*s)\n"
          ],
          "name": "stderr"
        }
      ]
    },
    {
      "cell_type": "code",
      "metadata": {
        "id": "gbSEyfZ1Zuwe",
        "colab": {
          "base_uri": "https://localhost:8080/",
          "height": 285
        },
        "outputId": "bcbf71f9-83b6-4449-dc5f-d6e42626b1b0"
      },
      "source": [
        "#visulaising dataset\n",
        "#mnist_train = [(img, label),(img, label),............]\n",
        "plt.imshow(mnist_train[7][0].squeeze(0))\n",
        "print(mnist_train[7][1])"
      ],
      "execution_count": null,
      "outputs": [
        {
          "output_type": "stream",
          "text": [
            "3\n"
          ],
          "name": "stdout"
        },
        {
          "output_type": "display_data",
          "data": {
            "image/png": "[encoded data removed]",
            "text/plain": [
              "<Figure size 432x288 with 1 Axes>"
            ]
          },
          "metadata": {
            "tags": [],
            "needs_background": "light"
          }
        }
      ]
    },
    {
      "cell_type": "code",
      "metadata": {
        "id": "2gBS_z-aqWM9"
      },
      "source": [
        "train_loader = torch.utils.data.DataLoader(dataset=mnist_train,\n",
        "                                      batch_size = batch_size,\n",
        "                                      shuffle=True)"
      ],
      "execution_count": null,
      "outputs": []
    },
    {
      "cell_type": "code",
      "metadata": {
        "id": "Eh_zmQVBrldR"
      },
      "source": [
        "def initialize_weights(model):\n",
        "    # Initializes weights according to the DCGAN paper\n",
        "    for m in model.modules():\n",
        "        if isinstance(m, (nn.Conv2d, nn.ConvTranspose2d, nn.BatchNorm2d)):\n",
        "            nn.init.normal_(m.weight.data, 0.0, 0.02)"
      ],
      "execution_count": null,
      "outputs": []
    },
    {
      "cell_type": "code",
      "metadata": {
        "id": "UUWZLLtbrllF"
      },
      "source": [
        "#converting noise to data-space means ultimately creating a RGB image with the same size as the training images (i.e. 3x64x64)\n",
        "#assuming gen_feature_size=64\n",
        "\n",
        "\n",
        "class Generator(nn.Module):\n",
        "    def __init__(self,noise_dim,channels_img,gen_feature_size):\n",
        "        super(Generator, self).__init__()\n",
        "        self.main = nn.Sequential(\n",
        "            # input is Z, going into a convolution\n",
        "            #torch.nn.ConvTranspose2d(in_channels, out_channels, kernel_size, stride=1)\n",
        "            nn.ConvTranspose2d( noise_dim, gen_feature_size * 16, 4, 1, 0),  #gen_feature_size*16=1024 as shown in paper \n",
        "            nn.BatchNorm2d(gen_feature_size *16),\n",
        "            nn.ReLU(True),\n",
        "            # state size. (gen_feature_size *16) x 4 x 4\n",
        "            nn.ConvTranspose2d(gen_feature_size *16, gen_feature_size *8, 4, 2, 1),\n",
        "            nn.BatchNorm2d(gen_feature_size *8),\n",
        "            nn.ReLU(True),\n",
        "            # state size. (gen_feature_size *8) x 8 x 8\n",
        "            nn.ConvTranspose2d( gen_feature_size *8, gen_feature_size *4, 4, 2, 1),\n",
        "            nn.BatchNorm2d(gen_feature_size *4),\n",
        "            nn.ReLU(True),\n",
        "            # state size. (gen_feature_size *4) x 16 x 16\n",
        "            nn.ConvTranspose2d( gen_feature_size *4, gen_feature_size *2, 4, 2, 1),\n",
        "            nn.BatchNorm2d(gen_feature_size *2),\n",
        "            nn.ReLU(True),\n",
        "            # state size. (gen_feature_size *2) x 32 x 32\n",
        "            nn.ConvTranspose2d( gen_feature_size *2, channels_img, 4, 2, 1),\n",
        "            nn.Tanh()\n",
        "            # state size. (channels_img) x 64 x 64\n",
        "        )\n",
        "\n",
        "    def forward(self, input):\n",
        "        return self.main(input)"
      ],
      "execution_count": null,
      "outputs": []
    },
    {
      "cell_type": "code",
      "metadata": {
        "colab": {
          "base_uri": "https://localhost:8080/"
        },
        "id": "Sfyl05J9rlrw",
        "outputId": "ca8d6489-3ee0-4a7d-a0b3-1a94199a149d"
      },
      "source": [
        "# visualising the outputs from each layer in generator\n",
        "\n",
        "\n",
        "netG = Generator(noise_dim,channels_img,gen_feature_size=64).to(device)\n",
        "netG.apply(initialize_weights)\n",
        "\n",
        "# Print the model\n",
        "print(netG)"
      ],
      "execution_count": null,
      "outputs": [
        {
          "output_type": "stream",
          "text": [
            "Generator(\n",
            "  (main): Sequential(\n",
            "    (0): ConvTranspose2d(100, 1024, kernel_size=(4, 4), stride=(1, 1))\n",
            "    (1): BatchNorm2d(1024, eps=1e-05, momentum=0.1, affine=True, track_running_stats=True)\n",
            "    (2): ReLU(inplace=True)\n",
            "    (3): ConvTranspose2d(1024, 512, kernel_size=(4, 4), stride=(2, 2), padding=(1, 1))\n",
            "    (4): BatchNorm2d(512, eps=1e-05, momentum=0.1, affine=True, track_running_stats=True)\n",
            "    (5): ReLU(inplace=True)\n",
            "    (6): ConvTranspose2d(512, 256, kernel_size=(4, 4), stride=(2, 2), padding=(1, 1))\n",
            "    (7): BatchNorm2d(256, eps=1e-05, momentum=0.1, affine=True, track_running_stats=True)\n",
            "    (8): ReLU(inplace=True)\n",
            "    (9): ConvTranspose2d(256, 128, kernel_size=(4, 4), stride=(2, 2), padding=(1, 1))\n",
            "    (10): BatchNorm2d(128, eps=1e-05, momentum=0.1, affine=True, track_running_stats=True)\n",
            "    (11): ReLU(inplace=True)\n",
            "    (12): ConvTranspose2d(128, 1, kernel_size=(4, 4), stride=(2, 2), padding=(1, 1))\n",
            "    (13): Tanh()\n",
            "  )\n",
            ")\n"
          ],
          "name": "stdout"
        }
      ]
    },
    {
      "cell_type": "code",
      "metadata": {
        "id": "XPhlT1vMrlyf"
      },
      "source": [
        "# Here, Discriminator takes a 3x64x64 input image, processes it through a series of Conv2d, BatchNorm2d, and LeakyReLU layers, \n",
        "# and outputs the final probability through a Sigmoid activation function\n",
        "\n",
        "class Discriminator(nn.Module):\n",
        "    def __init__(self, channels_img,disc_feature_size):\n",
        "        super(Discriminator, self).__init__()\n",
        "        self.main = nn.Sequential(\n",
        "            # input is (channels_img) x 64 x 64\n",
        "            nn.Conv2d(channels_img, disc_feature_size, 4, 2, 1),\n",
        "            nn.LeakyReLU(0.2, inplace=True),\n",
        "            # state size. (disc_feature_size) x 32 x 32\n",
        "            nn.Conv2d(disc_feature_size, disc_feature_size * 2, 4, 2, 1),\n",
        "            nn.BatchNorm2d(disc_feature_size * 2),\n",
        "            nn.LeakyReLU(0.2, inplace=True),\n",
        "            # state size. (disc_feature_size*2) x 16 x 16\n",
        "            nn.Conv2d(disc_feature_size * 2, disc_feature_size * 4, 4, 2, 1),\n",
        "            nn.BatchNorm2d(disc_feature_size * 4),\n",
        "            nn.LeakyReLU(0.2, inplace=True),\n",
        "            # state size. (disc_feature_size*4) x 8 x 8\n",
        "            nn.Conv2d(disc_feature_size * 4,disc_feature_size * 8, 4, 2, 1),\n",
        "            nn.BatchNorm2d(disc_feature_size * 8),\n",
        "            nn.LeakyReLU(0.2, inplace=True),\n",
        "            # state size. (disc_feature_size*8) x 4 x 4\n",
        "            nn.Conv2d(disc_feature_size * 8, 1, 4, 1, 0),\n",
        "            nn.Sigmoid()\n",
        "        )\n",
        "\n",
        "    def forward(self, input):\n",
        "        return self.main(input)"
      ],
      "execution_count": null,
      "outputs": []
    },
    {
      "cell_type": "code",
      "metadata": {
        "colab": {
          "base_uri": "https://localhost:8080/"
        },
        "id": "owjfoN1-rl5L",
        "outputId": "26f3111b-2826-4157-d8ba-9a0c94055872"
      },
      "source": [
        "# visualising the outputs from each layer in discriminator\n",
        "\n",
        "netD = Discriminator(channels_img,disc_feature_size).to(device)\n",
        "netD.apply(initialize_weights)\n",
        "\n",
        "# Print the model\n",
        "print(netD)"
      ],
      "execution_count": null,
      "outputs": [
        {
          "output_type": "stream",
          "text": [
            "Discriminator(\n",
            "  (main): Sequential(\n",
            "    (0): Conv2d(1, 64, kernel_size=(4, 4), stride=(2, 2), padding=(1, 1))\n",
            "    (1): LeakyReLU(negative_slope=0.2, inplace=True)\n",
            "    (2): Conv2d(64, 128, kernel_size=(4, 4), stride=(2, 2), padding=(1, 1))\n",
            "    (3): BatchNorm2d(128, eps=1e-05, momentum=0.1, affine=True, track_running_stats=True)\n",
            "    (4): LeakyReLU(negative_slope=0.2, inplace=True)\n",
            "    (5): Conv2d(128, 256, kernel_size=(4, 4), stride=(2, 2), padding=(1, 1))\n",
            "    (6): BatchNorm2d(256, eps=1e-05, momentum=0.1, affine=True, track_running_stats=True)\n",
            "    (7): LeakyReLU(negative_slope=0.2, inplace=True)\n",
            "    (8): Conv2d(256, 512, kernel_size=(4, 4), stride=(2, 2), padding=(1, 1))\n",
            "    (9): BatchNorm2d(512, eps=1e-05, momentum=0.1, affine=True, track_running_stats=True)\n",
            "    (10): LeakyReLU(negative_slope=0.2, inplace=True)\n",
            "    (11): Conv2d(512, 1, kernel_size=(4, 4), stride=(1, 1))\n",
            "    (12): Sigmoid()\n",
            "  )\n",
            ")\n"
          ],
          "name": "stdout"
        }
      ]
    },
    {
      "cell_type": "code",
      "metadata": {
        "id": "ZLsWKWRTr0BY"
      },
      "source": [
        "# Initialize BCELoss function\n",
        "criterion = nn.BCELoss()\n",
        "\n",
        "# Create batch of latent vectors that we will use to visualize\n",
        "#  the progression of the generator\n",
        "fixed_noise = torch.randn(64, noise_dim , 1, 1, device=device)\n",
        "\n",
        "# Establish convention for real and fake labels during training\n",
        "real_label = 1.\n",
        "fake_label = 0.\n",
        "\n",
        "# Setup Adam optimizers for both G and D\n",
        "optimizerD = optim.Adam(netD.parameters(), lr=lr, betas=(beta1, 0.999))\n",
        "optimizerG = optim.Adam(netG.parameters(), lr=lr, betas=(beta1, 0.999))"
      ],
      "execution_count": null,
      "outputs": []
    },
    {
      "cell_type": "code",
      "metadata": {
        "colab": {
          "base_uri": "https://localhost:8080/"
        },
        "id": "19ii8xpxr0NW",
        "outputId": "9af723b1-8b0f-46f8-d51e-bd7f35ddebdc"
      },
      "source": [
        "# Training Loop\n",
        "\n",
        "# Lists to keep track of progress\n",
        "img_list = []\n",
        "G_losses = []\n",
        "D_losses = []\n",
        "iters = 0\n",
        "\n",
        "print(\"Starting Training Loop...\")\n",
        "# For each epoch\n",
        "for epoch in range(epochs):\n",
        "    # For each batch in the dataloader\n",
        "    for i, data in enumerate(train_loader , 0):\n",
        "\n",
        "        ############################\n",
        "        # (1) Update D network: maximize log(D(x)) + log(1 - D(G(z)))\n",
        "        ###########################\n",
        "        ## Train with all-real batch\n",
        "        netD.zero_grad()\n",
        "        # Format batch\n",
        "        real_cpu = data[0].to(device)\n",
        "        b_size = real_cpu.size(0)\n",
        "        label = torch.full((b_size,), real_label, dtype=torch.float, device=device)\n",
        "        # Forward pass real batch through D\n",
        "        output = netD(real_cpu).view(-1)\n",
        "        # Calculate loss on all-real batch\n",
        "        errD_real = criterion(output, label)\n",
        "        # Calculate gradients for D in backward pass\n",
        "        errD_real.backward()\n",
        "        D_x = output.mean().item()\n",
        "\n",
        "        ## Train with all-fake batch\n",
        "        # Generate batch of latent vectors\n",
        "        noise = torch.randn(b_size, noise_dim, 1, 1, device=device)\n",
        "        # Generate fake image batch with G\n",
        "        fake = netG(noise)\n",
        "        label.fill_(fake_label)\n",
        "        # Classify all fake batch with D\n",
        "        output = netD(fake.detach()).view(-1)\n",
        "        # Calculate D's loss on the all-fake batch\n",
        "        errD_fake = criterion(output, label)\n",
        "        # Calculate the gradients for this batch, accumulated (summed) with previous gradients\n",
        "        errD_fake.backward()\n",
        "        D_G_z1 = output.mean().item()\n",
        "        # Compute error of D as sum over the fake and the real batches\n",
        "        errD = errD_real + errD_fake\n",
        "        # Update D\n",
        "        optimizerD.step()\n",
        "\n",
        "        ############################\n",
        "        # (2) Update G network: maximize log(D(G(z)))\n",
        "        ###########################\n",
        "        netG.zero_grad()\n",
        "        label.fill_(real_label)  # fake labels are real for generator cost\n",
        "        # Since we just updated D, perform another forward pass of all-fake batch through D\n",
        "        output = netD(fake).view(-1)\n",
        "        # Calculate G's loss based on this output\n",
        "        errG = criterion(output, label)\n",
        "        # Calculate gradients for G\n",
        "        errG.backward()\n",
        "        D_G_z2 = output.mean().item()\n",
        "        # Update G\n",
        "        optimizerG.step()\n",
        "\n",
        "        # Output training stats\n",
        "        if i % 50 == 0:\n",
        "            print('[%d/%d][%d/%d]\\tLoss_D: %.4f\\tLoss_G: %.4f\\tD(x): %.4f\\tD(G(z)): %.4f / %.4f'\n",
        "                  % (epoch, epochs, i, len(train_loader),\n",
        "                     errD.item(), errG.item(), D_x, D_G_z1, D_G_z2))\n",
        "\n",
        "        # Save Losses for plotting later\n",
        "        G_losses.append(errG.item())\n",
        "        D_losses.append(errD.item())\n",
        "\n",
        "        # Check how the generator is doing by saving G's output on fixed_noise\n",
        "        if (iters % 500 == 0) or ((epoch == epochs-1) and (i == len(train_loader)-1)):\n",
        "            with torch.no_grad():\n",
        "                fake = netG(fixed_noise).detach().cpu()\n",
        "            img_list.append(vutils.make_grid(fake, padding=2, normalize=True))\n",
        "\n",
        "        iters += 1"
      ],
      "execution_count": null,
      "outputs": [
        {
          "output_type": "stream",
          "text": [
            "Starting Training Loop...\n",
            "[0/5][0/469]\tLoss_D: 1.3982\tLoss_G: 0.7703\tD(x): 0.5035\tD(G(z)): 0.5093 / 0.4629\n",
            "[0/5][50/469]\tLoss_D: 0.1016\tLoss_G: 2.9286\tD(x): 0.9564\tD(G(z)): 0.0554 / 0.0535\n",
            "[0/5][100/469]\tLoss_D: 0.0301\tLoss_G: 4.1173\tD(x): 0.9876\tD(G(z)): 0.0174 / 0.0167\n",
            "[0/5][150/469]\tLoss_D: 0.0820\tLoss_G: 3.7829\tD(x): 0.9604\tD(G(z)): 0.0406 / 0.0237\n",
            "[0/5][200/469]\tLoss_D: 0.7824\tLoss_G: 1.5449\tD(x): 0.6904\tD(G(z)): 0.3344 / 0.2160\n",
            "[0/5][250/469]\tLoss_D: 1.0197\tLoss_G: 2.6330\tD(x): 0.7648\tD(G(z)): 0.5251 / 0.0724\n",
            "[0/5][300/469]\tLoss_D: 1.1821\tLoss_G: 1.2633\tD(x): 0.6975\tD(G(z)): 0.5567 / 0.2850\n",
            "[0/5][350/469]\tLoss_D: 1.1891\tLoss_G: 1.2028\tD(x): 0.5469\tD(G(z)): 0.4280 / 0.3119\n",
            "[0/5][400/469]\tLoss_D: 1.1277\tLoss_G: 0.9807\tD(x): 0.5086\tD(G(z)): 0.3505 / 0.3839\n",
            "[0/5][450/469]\tLoss_D: 1.1261\tLoss_G: 0.9677\tD(x): 0.5623\tD(G(z)): 0.4142 / 0.3852\n",
            "[1/5][0/469]\tLoss_D: 1.1030\tLoss_G: 1.0217\tD(x): 0.5773\tD(G(z)): 0.4126 / 0.3681\n",
            "[1/5][50/469]\tLoss_D: 1.1862\tLoss_G: 1.0401\tD(x): 0.5841\tD(G(z)): 0.4696 / 0.3580\n",
            "[1/5][100/469]\tLoss_D: 1.2463\tLoss_G: 0.8061\tD(x): 0.4752\tD(G(z)): 0.3870 / 0.4502\n",
            "[1/5][150/469]\tLoss_D: 1.1910\tLoss_G: 0.8702\tD(x): 0.5481\tD(G(z)): 0.4378 / 0.4234\n",
            "[1/5][200/469]\tLoss_D: 1.8359\tLoss_G: 1.8213\tD(x): 0.8870\tD(G(z)): 0.8162 / 0.1647\n",
            "[1/5][250/469]\tLoss_D: 1.1672\tLoss_G: 0.6505\tD(x): 0.5005\tD(G(z)): 0.3691 / 0.5260\n",
            "[1/5][300/469]\tLoss_D: 1.1363\tLoss_G: 0.8957\tD(x): 0.5193\tD(G(z)): 0.3721 / 0.4142\n",
            "[1/5][350/469]\tLoss_D: 1.1878\tLoss_G: 0.9290\tD(x): 0.5700\tD(G(z)): 0.4573 / 0.3998\n",
            "[1/5][400/469]\tLoss_D: 1.2247\tLoss_G: 1.2026\tD(x): 0.6478\tD(G(z)): 0.5328 / 0.3117\n",
            "[1/5][450/469]\tLoss_D: 1.3269\tLoss_G: 2.1638\tD(x): 0.7518\tD(G(z)): 0.6359 / 0.1201\n",
            "[2/5][0/469]\tLoss_D: 1.5322\tLoss_G: 2.2097\tD(x): 0.8748\tD(G(z)): 0.7436 / 0.1144\n",
            "[2/5][50/469]\tLoss_D: 1.0896\tLoss_G: 1.0831\tD(x): 0.5670\tD(G(z)): 0.3881 / 0.3501\n",
            "[2/5][100/469]\tLoss_D: 0.9986\tLoss_G: 1.3358\tD(x): 0.6318\tD(G(z)): 0.4018 / 0.2761\n",
            "[2/5][150/469]\tLoss_D: 1.0105\tLoss_G: 2.1735\tD(x): 0.7553\tD(G(z)): 0.5020 / 0.1210\n",
            "[2/5][200/469]\tLoss_D: 0.9450\tLoss_G: 1.6489\tD(x): 0.7010\tD(G(z)): 0.4322 / 0.2045\n",
            "[2/5][250/469]\tLoss_D: 1.0839\tLoss_G: 1.0084\tD(x): 0.4855\tD(G(z)): 0.2773 / 0.3807\n",
            "[2/5][300/469]\tLoss_D: 0.9564\tLoss_G: 2.5851\tD(x): 0.8145\tD(G(z)): 0.5128 / 0.0811\n",
            "[2/5][350/469]\tLoss_D: 1.0581\tLoss_G: 2.0373\tD(x): 0.7431\tD(G(z)): 0.5112 / 0.1425\n",
            "[2/5][400/469]\tLoss_D: 1.6708\tLoss_G: 2.7071\tD(x): 0.9536\tD(G(z)): 0.7856 / 0.0725\n",
            "[2/5][450/469]\tLoss_D: 0.6314\tLoss_G: 2.5830\tD(x): 0.8738\tD(G(z)): 0.3795 / 0.0829\n",
            "[3/5][0/469]\tLoss_D: 0.7641\tLoss_G: 1.2020\tD(x): 0.6187\tD(G(z)): 0.2180 / 0.3200\n",
            "[3/5][50/469]\tLoss_D: 0.9136\tLoss_G: 2.4032\tD(x): 0.8840\tD(G(z)): 0.5240 / 0.1057\n",
            "[3/5][100/469]\tLoss_D: 0.6810\tLoss_G: 2.0560\tD(x): 0.8127\tD(G(z)): 0.3604 / 0.1433\n",
            "[3/5][150/469]\tLoss_D: 0.5548\tLoss_G: 1.9738\tD(x): 0.7719\tD(G(z)): 0.2417 / 0.1562\n",
            "[3/5][200/469]\tLoss_D: 0.4718\tLoss_G: 1.4812\tD(x): 0.7346\tD(G(z)): 0.1367 / 0.2437\n",
            "[3/5][250/469]\tLoss_D: 0.7417\tLoss_G: 3.5156\tD(x): 0.9271\tD(G(z)): 0.4596 / 0.0373\n",
            "[3/5][300/469]\tLoss_D: 0.6888\tLoss_G: 2.9638\tD(x): 0.9201\tD(G(z)): 0.4330 / 0.0610\n",
            "[3/5][350/469]\tLoss_D: 0.6517\tLoss_G: 2.5369\tD(x): 0.8173\tD(G(z)): 0.3371 / 0.0958\n",
            "[3/5][400/469]\tLoss_D: 0.7043\tLoss_G: 1.2140\tD(x): 0.6246\tD(G(z)): 0.1754 / 0.3314\n",
            "[3/5][450/469]\tLoss_D: 0.6983\tLoss_G: 1.2549\tD(x): 0.5560\tD(G(z)): 0.0543 / 0.3219\n",
            "[4/5][0/469]\tLoss_D: 0.4076\tLoss_G: 2.3052\tD(x): 0.8303\tD(G(z)): 0.1825 / 0.1183\n",
            "[4/5][50/469]\tLoss_D: 0.4495\tLoss_G: 1.8465\tD(x): 0.7708\tD(G(z)): 0.1539 / 0.1797\n",
            "[4/5][100/469]\tLoss_D: 0.5552\tLoss_G: 3.7179\tD(x): 0.9148\tD(G(z)): 0.3516 / 0.0308\n",
            "[4/5][150/469]\tLoss_D: 0.5168\tLoss_G: 1.2532\tD(x): 0.6471\tD(G(z)): 0.0467 / 0.3220\n",
            "[4/5][200/469]\tLoss_D: 1.0869\tLoss_G: 1.4605\tD(x): 0.3819\tD(G(z)): 0.0183 / 0.2642\n",
            "[4/5][250/469]\tLoss_D: 0.5113\tLoss_G: 3.8914\tD(x): 0.9464\tD(G(z)): 0.3406 / 0.0274\n",
            "[4/5][300/469]\tLoss_D: 0.3965\tLoss_G: 2.3218\tD(x): 0.8050\tD(G(z)): 0.1472 / 0.1147\n",
            "[4/5][350/469]\tLoss_D: 0.4461\tLoss_G: 4.0489\tD(x): 0.9445\tD(G(z)): 0.3043 / 0.0225\n",
            "[4/5][400/469]\tLoss_D: 0.8499\tLoss_G: 0.7183\tD(x): 0.4851\tD(G(z)): 0.0319 / 0.5221\n",
            "[4/5][450/469]\tLoss_D: 0.5194\tLoss_G: 4.1308\tD(x): 0.9593\tD(G(z)): 0.3463 / 0.0242\n"
          ],
          "name": "stdout"
        }
      ]
    },
    {
      "cell_type": "code",
      "metadata": {
        "colab": {
          "base_uri": "https://localhost:8080/",
          "height": 350
        },
        "id": "q8g06mXDr0Y7",
        "outputId": "e85957df-a356-4e87-eb45-2faa82b8736d"
      },
      "source": [
        "plt.figure(figsize=(10,5))\n",
        "plt.title(\"Generator and Discriminator Loss During Training\")\n",
        "plt.plot(G_losses,label=\"G\")\n",
        "plt.plot(D_losses,label=\"D\")\n",
        "plt.xlabel(\"iterations\")\n",
        "plt.ylabel(\"Loss\")\n",
        "plt.legend()\n",
        "plt.show() "
      ],
      "execution_count": null,
      "outputs": [
        {
          "output_type": "display_data",
          "data": {
            "image/png": "[encoded data removed]",
            "text/plain": [
              "<Figure size 720x360 with 1 Axes>"
            ]
          },
          "metadata": {
            "tags": [],
            "needs_background": "light"
          }
        }
      ]
    },
    {
      "cell_type": "code",
      "metadata": {
        "id": "EYysxB67r0kg"
      },
      "source": [
        ""
      ],
      "execution_count": null,
      "outputs": []
    }
  ]
}