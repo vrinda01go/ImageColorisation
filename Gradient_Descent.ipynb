{
  "nbformat": 4,
  "nbformat_minor": 0,
  "metadata": {
    "colab": {
      "name": "Gradient Descent",
      "provenance": []
    },
    "kernelspec": {
      "name": "python3",
      "display_name": "Python 3"
    },
    "language_info": {
      "name": "python"
    }
  },
  "cells": [
    {
      "cell_type": "code",
      "metadata": {
        "id": "RImfshFux5nb"
      },
      "source": [
        "import pandas as pd\n",
        "import numpy as np\n",
        "import matplotlib.pyplot as plt"
      ],
      "execution_count": null,
      "outputs": []
    },
    {
      "cell_type": "code",
      "metadata": {
        "id": "Yvawxsjb017Z"
      },
      "source": [
        "df = pd.read_csv('data.csv')\n",
        "arr = df.to_numpy()\n",
        "# x = df['X'].to_numpy()\n",
        "# y = df['Y'].to_numpy()\n",
        "\n",
        "\n",
        "\n",
        " "
      ],
      "execution_count": null,
      "outputs": []
    },
    {
      "cell_type": "code",
      "metadata": {
        "id": "moUbIn1f8-JC"
      },
      "source": [
        "A=100\n",
        "B=70"
      ],
      "execution_count": null,
      "outputs": []
    },
    {
      "cell_type": "code",
      "metadata": {
        "id": "co88fmsQ1SEe"
      },
      "source": [
        "def y_gen(A,B,X):\n",
        "  return (A*X + B)"
      ],
      "execution_count": null,
      "outputs": []
    },
    {
      "cell_type": "code",
      "metadata": {
        "colab": {
          "base_uri": "https://localhost:8080/"
        },
        "id": "ogFWrN2e1RFO",
        "outputId": "8b7707a5-499f-4e74-88f1-d95a9d1f004a"
      },
      "source": [
        "y_= y_gen(1,0,X)\n",
        "\n",
        "y_"
      ],
      "execution_count": null,
      "outputs": [
        {
          "output_type": "execute_result",
          "data": {
            "text/plain": [
              "array([[609],\n",
              "       [629],\n",
              "       [620],\n",
              "       [564],\n",
              "       [645],\n",
              "       [493],\n",
              "       [606],\n",
              "       [660],\n",
              "       [630],\n",
              "       [672],\n",
              "       [778],\n",
              "       [616],\n",
              "       [727],\n",
              "       [810],\n",
              "       [778],\n",
              "       [823],\n",
              "       [755],\n",
              "       [710],\n",
              "       [701],\n",
              "       [803],\n",
              "       [855],\n",
              "       [838],\n",
              "       [830],\n",
              "       [864],\n",
              "       [635],\n",
              "       [565],\n",
              "       [562],\n",
              "       [580],\n",
              "       [596],\n",
              "       [597],\n",
              "       [636],\n",
              "       [559],\n",
              "       [615],\n",
              "       [740],\n",
              "       [677],\n",
              "       [675],\n",
              "       [629],\n",
              "       [692],\n",
              "       [710],\n",
              "       [730],\n",
              "       [763],\n",
              "       [686],\n",
              "       [717],\n",
              "       [737],\n",
              "       [816]])"
            ]
          },
          "metadata": {
            "tags": []
          },
          "execution_count": 34
        }
      ]
    },
    {
      "cell_type": "code",
      "metadata": {
        "colab": {
          "base_uri": "https://localhost:8080/"
        },
        "id": "Axrrnls01cvp",
        "outputId": "5a84ab6f-2bb3-41ea-d02d-6a49c142bbcd"
      },
      "source": [
        "X,Y = np.split(arr,[-1],1)\n",
        "X"
      ],
      "execution_count": null,
      "outputs": [
        {
          "output_type": "execute_result",
          "data": {
            "text/plain": [
              "array([[609],\n",
              "       [629],\n",
              "       [620],\n",
              "       [564],\n",
              "       [645],\n",
              "       [493],\n",
              "       [606],\n",
              "       [660],\n",
              "       [630],\n",
              "       [672],\n",
              "       [778],\n",
              "       [616],\n",
              "       [727],\n",
              "       [810],\n",
              "       [778],\n",
              "       [823],\n",
              "       [755],\n",
              "       [710],\n",
              "       [701],\n",
              "       [803],\n",
              "       [855],\n",
              "       [838],\n",
              "       [830],\n",
              "       [864],\n",
              "       [635],\n",
              "       [565],\n",
              "       [562],\n",
              "       [580],\n",
              "       [596],\n",
              "       [597],\n",
              "       [636],\n",
              "       [559],\n",
              "       [615],\n",
              "       [740],\n",
              "       [677],\n",
              "       [675],\n",
              "       [629],\n",
              "       [692],\n",
              "       [710],\n",
              "       [730],\n",
              "       [763],\n",
              "       [686],\n",
              "       [717],\n",
              "       [737],\n",
              "       [816]])"
            ]
          },
          "metadata": {
            "tags": []
          },
          "execution_count": 35
        }
      ]
    },
    {
      "cell_type": "code",
      "metadata": {
        "id": "ryvxb2zQ1eQb"
      },
      "source": [
        "def linear_regression(X,Y,A,B,epochs=10,alpha=0.03):\n",
        "  N=float(len(Y))\n",
        "  for i in range(epochs):\n",
        "    cost = np.sum((Y-y_) ** 2) /(2*N)\n",
        "    a = -(N) * sum(X * (Y - y_))\n",
        "    b = -(N) * sum(Y - y_)\n",
        "    A = A -(alpha *a)\n",
        "    B = B -(alpha *b)\n",
        "    return A,B\n",
        "    "
      ],
      "execution_count": null,
      "outputs": []
    },
    {
      "cell_type": "code",
      "metadata": {
        "colab": {
          "base_uri": "https://localhost:8080/",
          "height": 283
        },
        "id": "Hld4FooS5qHC",
        "outputId": "638470df-a04b-4900-cb49-fa81def2b3a2"
      },
      "source": [
        "A,B =np.shape(X)\n",
        "\n",
        "A= linear_regression(X,Y,A,B,epochs=10,alpha=0.03)\n",
        "print(A,B) \n",
        "plt.plot(X,y_)\n",
        "plt.scatter(X,Y)\n",
        "plt.show()"
      ],
      "execution_count": null,
      "outputs": [
        {
          "output_type": "stream",
          "text": [
            "(array([-18872702.55]), array([-26926.1])) 1\n"
          ],
          "name": "stdout"
        },
        {
          "output_type": "display_data",
          "data": {
            "image/png": "[encoded data removed]",
            "text/plain": [
              "<Figure size 432x288 with 1 Axes>"
            ]
          },
          "metadata": {
            "tags": [],
            "needs_background": "light"
          }
        }
      ]
    },
    {
      "cell_type": "code",
      "metadata": {
        "id": "HhnYSSiGGRV2"
      },
      "source": [
        ""
      ],
      "execution_count": null,
      "outputs": []
    },
    {
      "cell_type": "code",
      "metadata": {
        "id": "vBt0_HODGRS_"
      },
      "source": [
        ""
      ],
      "execution_count": null,
      "outputs": []
    }
  ]
}